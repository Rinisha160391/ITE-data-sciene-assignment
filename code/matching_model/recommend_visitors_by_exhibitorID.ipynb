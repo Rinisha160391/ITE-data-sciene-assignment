{
  "nbformat": 4,
  "nbformat_minor": 0,
  "metadata": {
    "colab": {
      "provenance": []
    },
    "kernelspec": {
      "name": "python3",
      "display_name": "Python 3"
    },
    "language_info": {
      "name": "python"
    }
  },
  "cells": [
    {
      "cell_type": "code",
      "source": [
        "import re\n",
        "import numpy as np\n",
        "import pandas as pd\n",
        "from sklearn.metrics.pairwise import cosine_similarity\n",
        "from sentence_transformers import SentenceTransformer\n"
      ],
      "metadata": {
        "id": "fOAePI79PV8b"
      },
      "execution_count": 1,
      "outputs": []
    },
    {
      "cell_type": "code",
      "source": [
        "model = SentenceTransformer('all-MiniLM-L6-v2')\n"
      ],
      "metadata": {
        "colab": {
          "base_uri": "https://localhost:8080/"
        },
        "id": "WjKiliuCPmJ-",
        "outputId": "c8226839-058f-4213-de10-13f677135eb8"
      },
      "execution_count": 2,
      "outputs": [
        {
          "output_type": "stream",
          "name": "stderr",
          "text": [
            "/usr/local/lib/python3.11/dist-packages/huggingface_hub/utils/_auth.py:94: UserWarning: \n",
            "The secret `HF_TOKEN` does not exist in your Colab secrets.\n",
            "To authenticate with the Hugging Face Hub, create a token in your settings tab (https://huggingface.co/settings/tokens), set it as secret in your Google Colab and restart your session.\n",
            "You will be able to reuse this secret in all of your notebooks.\n",
            "Please note that authentication is recommended but still optional to access public models or datasets.\n",
            "  warnings.warn(\n"
          ]
        }
      ]
    },
    {
      "cell_type": "code",
      "source": [
        "exhibitors_df=pd.read_csv('/content/exhibitors_themes_top5_category.csv').drop(columns=[\"Unnamed: 0\", \"Unnamed: 0.1\"], errors=\"ignore\")\n",
        "visitors_df=pd.read_csv('/content/visitors_themes.csv').drop(columns=[\"Unnamed: 0\", \"Unnamed: 0.1\"], errors=\"ignore\")"
      ],
      "metadata": {
        "id": "Ag5KCDtaPaiM"
      },
      "execution_count": 3,
      "outputs": []
    },
    {
      "cell_type": "code",
      "source": [
        "def compute_semantic_similarity(text1, text2, model):\n",
        "    \"\"\"\n",
        "    Compute cosine similarity between the embeddings of two texts.\n",
        "    \"\"\"\n",
        "    emb1 = model.encode(text1, normalize_embeddings=True)\n",
        "    emb2 = model.encode(text2, normalize_embeddings=True)\n",
        "    return cosine_similarity([emb1], [emb2])[0][0]"
      ],
      "metadata": {
        "id": "5UkKFVt0PyGp"
      },
      "execution_count": 4,
      "outputs": []
    },
    {
      "cell_type": "code",
      "source": [
        "def extract_categories(text):\n",
        "    if isinstance(text, pd.Series):\n",
        "        text = \" | \".join(text.astype(str))\n",
        "    if not isinstance(text, str) or not text.strip():\n",
        "        return set()\n",
        "\n",
        "    # Split only on pipes, commas, or semicolons with optional spaces around them\n",
        "    categories = re.split(r'\\s*[|,;]\\s*', text.lower().strip())\n",
        "    # Remove empty strings after splitting\n",
        "    return set(filter(None, categories))\n"
      ],
      "metadata": {
        "id": "u_RhC67TPy_0"
      },
      "execution_count": 5,
      "outputs": []
    },
    {
      "cell_type": "code",
      "execution_count": 18,
      "metadata": {
        "id": "X9sgysqCPF2N"
      },
      "outputs": [],
      "source": [
        "def recommend_visitors_for_exhibitor(exhibitor_id, visitors_df, exhibitors_df, model, top_n=7, weight_semantic=0.6, weight_overlap=0.4):\n",
        "\n",
        "    # 1. Retrieve Exhibitor Data\n",
        "    exhibitor_rows = exhibitors_df[exhibitors_df['exhibitorid'] == exhibitor_id]\n",
        "\n",
        "    combined_categories=\" | \".join(exhibitor_rows['MainCategories'].unique())\n",
        "\n",
        "    #Extract exhibitor categories\n",
        "    exhibitor_extracted_categories = extract_categories(exhibitor_rows['MainCategories'])\n",
        "\n",
        "    visitor_grouped_df = visitors_df.groupby('visitorId').agg({\n",
        "    'email': 'first',\n",
        "    'gender': 'first',\n",
        "    'questionId': lambda x: \" | \".join(x.astype(str)),\n",
        "    'answer': lambda x: \" | \".join(x.astype(str)),\n",
        "    }).reset_index()\n",
        "\n",
        "\n",
        "    # Extract visitor categories from the combined answer text.\n",
        "    # visitor_grouped_df['visitor_extracted_Categories'] = visitor_grouped_df['answer'].apply(lambda ans: extract_categories(ans))\n",
        "\n",
        "    # 4. Compute Overlap Score between Exhibitor and Visitor Categories\n",
        "    def compute_category_similarity(exhibitor_categories,visitor_categories):\n",
        "        #print(exhibitor_categories,visitor_categories)\n",
        "        if not visitor_categories or not exhibitor_categories:\n",
        "            return 0\n",
        "        v_embeddings = model.encode(list(visitor_categories))\n",
        "        e_embeddings = model.encode(list(exhibitor_categories))\n",
        "        similarity_matrix = cosine_similarity(v_embeddings, e_embeddings)\n",
        "        return np.max(similarity_matrix)\n",
        "\n",
        "    visitor_grouped_df['OverlapScore'] = visitor_grouped_df['answer'].apply(\n",
        "        lambda x: compute_category_similarity(exhibitor_extracted_categories, extract_categories(x))\n",
        "    )\n",
        "    #print(visitor_grouped_df['OverlapScore'])\n",
        "\n",
        "    # 5. Rank Visitors by Final Score and Select the Top N\n",
        "    top_visitors = visitor_grouped_df.sort_values(by='OverlapScore', ascending=False).head(top_n)\n",
        "    print(top_visitors)\n",
        "    # Return a dictionary mapping visitorId to FinalWeightedScore\n",
        "    recommendations = dict(zip(top_visitors['visitorId'], top_visitors['OverlapScore']))\n",
        "    return recommendations\n"
      ]
    },
    {
      "cell_type": "code",
      "source": [
        "example_exhibitor_id = 92462\n",
        "example_recommendations = recommend_visitors_for_exhibitor(example_exhibitor_id, visitors_df, exhibitors_df, model, top_n=7)\n",
        "example_recommendations"
      ],
      "metadata": {
        "colab": {
          "base_uri": "https://localhost:8080/"
        },
        "id": "L6uqGeLMP-Mq",
        "outputId": "6aed7c2a-37bc-4949-b4ba-32bb620eb860"
      },
      "execution_count": 19,
      "outputs": [
        {
          "output_type": "stream",
          "name": "stdout",
          "text": [
            "                   visitorId                                          email  \\\n",
            "0   0wcaegyyobblhhvfzwyibn0a             daniela.p+203_NfBj_lrIk@bss.com.mk   \n",
            "23  67b5e0f7774d9e718c7541db                         3990147_SeNs@gmail.com   \n",
            "25  67b5f1392d21f543a10965f1       aleksandar.dimkov+mitt10_V0iB@bss.com.mk   \n",
            "4   3p80z1iocd67z0qvg8ju1cc0  aleksandar.dimkov+mitt10_V0iB_2bw2@bss.com.mk   \n",
            "30  67b70e142d21f543a1096609                  daniela.p+203_NfBj@bss.com.mk   \n",
            "21  67b47874197e604dd2722d6f                  daniela.p+201_Fwae@bss.com.mk   \n",
            "74  nwgueloa1n8u9v2eegzvfamb             daniela.p+201_Fwae_HTYS@bss.com.mk   \n",
            "\n",
            "    gender                                         questionId  \\\n",
            "0        1  5c8a78336d41a10da4f730fe | 5c8a78336d41a10da4f...   \n",
            "23       1  5c8a78336d41a10da4f730fe | 5c8a78336d41a10da4f...   \n",
            "25       1  5c8a78336d41a10da4f730fe | 5c8a78336d41a10da4f...   \n",
            "4        1  5c8a78336d41a10da4f730fe | 5c8a78336d41a10da4f...   \n",
            "30       0  5c8a78336d41a10da4f730fe | 5c8a78336d41a10da4f...   \n",
            "21       1  5c8a78336d41a10da4f730fe | 5c8a78336d41a10da4f...   \n",
            "74       1  5c8a78336d41a10da4f730fe | 5c8a78336d41a10da4f...   \n",
            "\n",
            "                                               answer  OverlapScore  \n",
            "0   Educational purposes  | Visa support | Tour Op...      0.756929  \n",
            "23  To source products and services | Tour Operato...      0.756929  \n",
            "25  To source products and services | Visa support...      0.756929  \n",
            "4   To source products and services | Visa support...      0.756929  \n",
            "30  Educational purposes  | Visa support | Tour Op...      0.756929  \n",
            "21  To promote products and services | Visa suppor...      0.756929  \n",
            "74  To promote products and services | Visa suppor...      0.756929  \n"
          ]
        },
        {
          "output_type": "execute_result",
          "data": {
            "text/plain": [
              "{'0wcaegyyobblhhvfzwyibn0a': 0.7569289207458496,\n",
              " '67b5e0f7774d9e718c7541db': 0.7569289207458496,\n",
              " '67b5f1392d21f543a10965f1': 0.7569289207458496,\n",
              " '3p80z1iocd67z0qvg8ju1cc0': 0.7569289207458496,\n",
              " '67b70e142d21f543a1096609': 0.7569289207458496,\n",
              " '67b47874197e604dd2722d6f': 0.7569289207458496,\n",
              " 'nwgueloa1n8u9v2eegzvfamb': 0.7569289207458496}"
            ]
          },
          "metadata": {},
          "execution_count": 19
        }
      ]
    },
    {
      "cell_type": "code",
      "source": [],
      "metadata": {
        "id": "CwkmJieKrF2P"
      },
      "execution_count": null,
      "outputs": []
    }
  ]
}