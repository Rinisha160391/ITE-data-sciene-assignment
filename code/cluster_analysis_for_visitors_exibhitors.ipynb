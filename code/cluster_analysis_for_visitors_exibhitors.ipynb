{
  "nbformat": 4,
  "nbformat_minor": 0,
  "metadata": {
    "colab": {
      "provenance": []
    },
    "kernelspec": {
      "name": "python3",
      "display_name": "Python 3"
    },
    "language_info": {
      "name": "python"
    }
  },
  "cells": [
    {
      "cell_type": "code",
      "source": [
        "import pandas as pd\n",
        "import hdbscan\n",
        "from sklearn.feature_extraction.text import TfidfVectorizer\n",
        "from sentence_transformers import SentenceTransformer\n",
        "import umap\n",
        "from sklearn.metrics import silhouette_score\n",
        "import matplotlib.pyplot as plt\n",
        "import numpy as np\n",
        "import os\n",
        "import openai\n",
        "import pandas as pd\n",
        "from openai import OpenAI\n",
        "from IPython.display import display, Markdown"
      ],
      "metadata": {
        "id": "C9bFhq0fQFwo"
      },
      "execution_count": 24,
      "outputs": []
    },
    {
      "cell_type": "code",
      "source": [
        "exhibitors_df = pd.read_csv(\"/content/cleaned_exhibitors_df.csv\")\n",
        "visitors_df = pd.read_csv(\"/content/cleaned_visitors_df.csv\")"
      ],
      "metadata": {
        "id": "f1FSq47op6xS"
      },
      "execution_count": 12,
      "outputs": []
    },
    {
      "cell_type": "markdown",
      "source": [
        "**EXIBHITOR CLUSTER ANALYSIS**"
      ],
      "metadata": {
        "id": "u5vTbzjCEy3q"
      }
    },
    {
      "cell_type": "code",
      "source": [
        "# Load pre-trained BERT-based model for embeddings\n",
        "model = SentenceTransformer('all-MiniLM-L6-v2')\n",
        "\n",
        "# Generate embeddings for Maincategories\n",
        "category_embeddings = model.encode(exhibitors_df['MainCategories'].tolist(), normalize_embeddings=True)\n",
        "\n",
        "# Convert to NumPy array for clustering\n",
        "category_embeddings = np.array(category_embeddings)\n",
        "\n",
        "umap_model = umap.UMAP(n_neighbors=10, min_dist=0.05, n_components=2)\n",
        "reduced_embeddings = umap_model.fit_transform(category_embeddings)\n",
        "\n",
        "#clustering\n",
        "clusterer = hdbscan.HDBSCAN(min_cluster_size=6, min_samples=5, metric='euclidean', cluster_selection_method='eom')\n",
        "cluster_labels = clusterer.fit_predict(reduced_embeddings)\n",
        "\n",
        "# Add the new cluster labels to the DataFrame\n",
        "exhibitors_df['Cluster'] = cluster_labels\n",
        "\n",
        "if len(set(cluster_labels)) > 1:\n",
        "    silhouette_avg = silhouette_score(reduced_embeddings, cluster_labels)\n",
        "    print(f'Silhouette Score: {silhouette_avg:.4f}')\n",
        "else:\n",
        "    print(\"Clusters are not well-formed. Try adjusting parameters.\")\n"
      ],
      "metadata": {
        "colab": {
          "base_uri": "https://localhost:8080/"
        },
        "id": "bJp0J-O4QRq3",
        "outputId": "593d8425-92c2-4e64-9e3f-132ddcbf44fd"
      },
      "execution_count": 17,
      "outputs": [
        {
          "output_type": "stream",
          "name": "stderr",
          "text": [
            "/usr/local/lib/python3.11/dist-packages/sklearn/utils/deprecation.py:151: FutureWarning: 'force_all_finite' was renamed to 'ensure_all_finite' in 1.6 and will be removed in 1.8.\n",
            "  warnings.warn(\n"
          ]
        },
        {
          "output_type": "stream",
          "name": "stdout",
          "text": [
            "Silhouette Score: 0.7286\n"
          ]
        },
        {
          "output_type": "stream",
          "name": "stderr",
          "text": [
            "/usr/local/lib/python3.11/dist-packages/sklearn/utils/deprecation.py:151: FutureWarning: 'force_all_finite' was renamed to 'ensure_all_finite' in 1.6 and will be removed in 1.8.\n",
            "  warnings.warn(\n",
            "/usr/local/lib/python3.11/dist-packages/sklearn/utils/deprecation.py:151: FutureWarning: 'force_all_finite' was renamed to 'ensure_all_finite' in 1.6 and will be removed in 1.8.\n",
            "  warnings.warn(\n"
          ]
        }
      ]
    },
    {
      "cell_type": "code",
      "source": [
        "for cluster_id in sorted(exhibitors_df['Cluster'].unique()):\n",
        "    print(f\"\\nCluster {cluster_id}:\\n\" + \"-\"*40)\n",
        "    cluster_data = exhibitors_df[exhibitors_df['Cluster'] == cluster_id][['MainCategories']]\n",
        "\n",
        "    for _, row in cluster_data.iterrows():\n",
        "        print(f\"{row['MainCategories']}\")\n"
      ],
      "metadata": {
        "colab": {
          "base_uri": "https://localhost:8080/"
        },
        "id": "UlxyLLwJRP61",
        "outputId": "36c200c8-ad14-4f85-e176-6417f6efaf30"
      },
      "execution_count": 18,
      "outputs": [
        {
          "output_type": "stream",
          "name": "stdout",
          "text": [
            "\n",
            "Cluster -1:\n",
            "----------------------------------------\n",
            "boarding house\n",
            "boarding house\n",
            "mice and event management\n",
            "boarding house\n",
            "airlines\n",
            "mice and event management\n",
            "mice agency\n",
            "mice agency\n",
            "event organizer\n",
            "\n",
            "Cluster 0:\n",
            "----------------------------------------\n",
            "nto: national tourism office\n",
            "regional tourism office\n",
            "tic: travel information centre\n",
            "data analytics and personalization\n",
            "tourist board/government/nto\n",
            "tic: travel information centre\n",
            "tourist board/government/nto\n",
            "nto: national tourism office\n",
            "nto: national tourism office\n",
            "data analytics and personalization\n",
            "nto: national tourism office\n",
            "nto: national tourism office\n",
            "\n",
            "Cluster 1:\n",
            "----------------------------------------\n",
            "online media\n",
            "vr and ar\n",
            "print media\n",
            "vr and ar\n",
            "print media\n",
            "radio and tv\n",
            "radio and tv\n",
            "vr and ar\n",
            "print media\n",
            "print media\n",
            "radio and tv\n",
            "\n",
            "Cluster 2:\n",
            "----------------------------------------\n",
            "other transport services\n",
            "transfer services\n",
            "other transport services\n",
            "other transport services\n",
            "payment service provider\n",
            "payment service provider\n",
            "payment service provider\n",
            "bus services\n",
            "payment service provider\n",
            "bus services\n",
            "\n",
            "Cluster 3:\n",
            "----------------------------------------\n",
            "inbound tour operator\n",
            "outbound tour operator\n",
            "mass market tour operators\n",
            "outbound tour operator\n",
            "inbound tour operator\n",
            "cruise tour operators\n",
            "specialized tour operator\n",
            "receptive/ground operator\n",
            "mass market tour operators\n",
            "specialized tour operator\n",
            "cruise tour operators\n",
            "inbound tour operator\n",
            "specialized tour operator\n",
            "receptive/ground operator\n",
            "\n",
            "Cluster 4:\n",
            "----------------------------------------\n",
            "management company\n",
            "management company\n",
            "insurance company\n",
            "railway company\n",
            "banking, investments\n",
            "insurance companies and banking\n",
            "management company\n",
            "banking, investments\n",
            "insurance company\n",
            "insurance company\n",
            "banking, investments\n",
            "\n",
            "Cluster 5:\n",
            "----------------------------------------\n",
            "hospitals and clinics\n",
            "short-term complex rest and medical services\n",
            "short-term complex rest and medical services\n",
            "hair transplantation\n",
            "hospitals and clinics\n",
            "global healthcare providers\n",
            "\n",
            "Cluster 6:\n",
            "----------------------------------------\n",
            "industry association\n",
            "medical products and machinery manufacturer/distributor\n",
            "security system manufacturer/distributor\n",
            "industry association\n",
            "manufacturer/distributor of consumables\n",
            "medical products and machinery manufacturer/distributor\n",
            "\n",
            "Cluster 7:\n",
            "----------------------------------------\n",
            "resort hotel\n",
            "resort hotel\n",
            "resort hotel\n",
            "religious tourism\n",
            "religious tourism\n",
            "adventure tourism\n",
            "religious tourism\n",
            "study abroad and volunteering\n",
            "health and medical tourism\n",
            "youth travel\n",
            "adventure tourism\n",
            "\n",
            "Cluster 8:\n",
            "----------------------------------------\n",
            "industrial tourism\n",
            "industrial tourism\n",
            "other services in the sphere of business tourism\n",
            "other type of specialized tourism\n",
            "gastro tourism\n",
            "gastro tourism\n",
            "gastro tourism\n",
            "niche tourism\n",
            "gastro tourism\n",
            "other type of specialized tourism\n",
            "industrial tourism\n",
            "gastro tourism\n",
            "\n",
            "Cluster 9:\n",
            "----------------------------------------\n",
            "services and facilities\n",
            "helicopter services\n",
            "helicopter services\n",
            "helicopter services\n",
            "services and facilities\n",
            "helicopter services\n",
            "\n",
            "Cluster 10:\n",
            "----------------------------------------\n",
            "hotel/hotel chain/inn\n",
            "hotel equipment and service suppliers\n",
            "equipment for restaurants and catering\n",
            "hotel equipment and service suppliers\n",
            "hotel/hotel chain/inn\n",
            "hotel/hotel chain/inn\n",
            "\n",
            "Cluster 11:\n",
            "----------------------------------------\n",
            "apartments/residential hotel\n",
            "apartments/residential hotel\n",
            "hostel/motel\n",
            "hostel/motel\n",
            "hostel/motel\n",
            "hostel/motel\n",
            "hostel/motel\n",
            "real estate, property and homes in russia\n",
            "other type of accommodation facility\n",
            "real estate, property and homes abroad\n",
            "apartments/residential hotel\n",
            "accomodation providers\n",
            "\n",
            "Cluster 12:\n",
            "----------------------------------------\n",
            "campervans and caravans\n",
            "smart home technology\n",
            "motorhomes\n",
            "motorhomes and caravans\n",
            "mobile homes and glampings\n",
            "motorhomes and caravans\n",
            "mobile app\n",
            "motorhomes and caravans\n",
            "mobile app\n",
            "other type of motorhomes and glamping\n",
            "other type of motorhomes\n",
            "mobile homes and glampings\n",
            "mobile app\n",
            "smart home technology\n",
            "mobile homes and glampings\n",
            "car rental/carsharing\n",
            "\n",
            "Cluster 13:\n",
            "----------------------------------------\n",
            "cultural heritage site\n",
            "cleaning\n",
            "museums and parks\n",
            "museum\n",
            "museum\n",
            "cultural heritage site\n",
            "museums and parks\n",
            "museum\n",
            "museums and parks\n",
            "cultural heritage site\n",
            "\n",
            "Cluster 14:\n",
            "----------------------------------------\n",
            "nature park\n",
            "national park\n",
            "zoo\n",
            "theme and water park\n",
            "national park\n",
            "theme and water park\n",
            "zoo\n",
            "zoo\n",
            "\n",
            "Cluster 15:\n",
            "----------------------------------------\n",
            "independent travel agency\n",
            "travel  agencies\n",
            "independent travel agency\n",
            "authorized travel agency\n",
            "it solutions for travel industry\n",
            "authorized travel agency\n",
            "authorized travel agency\n",
            "travel  agencies\n",
            "independent travel agency\n",
            "network franchise travel agency\n",
            "authorized travel agency\n",
            "real estate agencies\n",
            "travel  agencies\n",
            "network franchise travel agency\n",
            "real estate agencies\n",
            "\n",
            "Cluster 16:\n",
            "----------------------------------------\n",
            "search engine for travel/aggregator\n",
            "search engine for travel/aggregator\n",
            "search engine for travel/aggregator\n",
            "online booking system and trip planner software\n",
            "online travel agency\n",
            "online booking system and trip planner software\n",
            "online travel agency\n",
            "search engine for travel/aggregator\n"
          ]
        }
      ]
    },
    {
      "cell_type": "code",
      "source": [
        "#Display Clusters with Themes\n",
        "def get_cluster_keywords(df, num_keywords=5):\n",
        "    cluster_keywords = {}\n",
        "    for cluster in df[\"Cluster\"].unique():\n",
        "        if cluster == -1:  # Ignore noise\n",
        "            continue\n",
        "        cluster_texts = df[df[\"Cluster\"] == cluster][\"MainCategories\"].tolist()\n",
        "        vectorizer = TfidfVectorizer(stop_words=\"english\", max_features=1000)\n",
        "        tfidf_matrix = vectorizer.fit_transform(cluster_texts)\n",
        "        feature_array = np.array(vectorizer.get_feature_names_out())\n",
        "        tfidf_sorting = np.argsort(tfidf_matrix.toarray().sum(axis=0))[::-1]\n",
        "        top_keywords = feature_array[tfidf_sorting][:num_keywords]\n",
        "        cluster_keywords[cluster] = \", \".join(top_keywords)\n",
        "    return cluster_keywords\n",
        "\n",
        "cluster_themes = get_cluster_keywords(exhibitors_df)\n",
        "\n",
        "\n",
        "for cluster, keywords in cluster_themes.items():\n",
        "    print(f\"Cluster {cluster}: {keywords}\")"
      ],
      "metadata": {
        "colab": {
          "base_uri": "https://localhost:8080/"
        },
        "id": "zWCHH0l5RXB-",
        "outputId": "42c646de-68e5-4a8c-fa15-5d51d3d8664e"
      },
      "execution_count": 19,
      "outputs": [
        {
          "output_type": "stream",
          "name": "stdout",
          "text": [
            "Cluster 7: tourism, religious, resort, hotel, adventure\n",
            "Cluster 3: tour, operator, specialized, inbound, operators\n",
            "Cluster 11: motel, hostel, hotel, residential, apartments\n",
            "Cluster 15: travel, agency, agencies, authorized, independent\n",
            "Cluster 16: travel, search, aggregator, engine, online\n",
            "Cluster 2: services, transport, service, payment, provider\n",
            "Cluster 9: services, helicopter, facilities\n",
            "Cluster 10: hotel, inn, chain, equipment, suppliers\n",
            "Cluster 8: tourism, gastro, industrial, type, specialized\n",
            "Cluster 1: media, print, vr, radio, tv\n",
            "Cluster 13: museum, museums, parks, site, heritage\n",
            "Cluster 4: company, insurance, management, banking, investments\n",
            "Cluster 0: nto, office, tourism, national, analytics\n",
            "Cluster 12: motorhomes, mobile, caravans, app, glampings\n",
            "Cluster 14: zoo, park, national, water, theme\n",
            "Cluster 5: hospitals, clinics, short, services, term\n",
            "Cluster 6: manufacturer, distributor, industry, association, machinery\n"
          ]
        }
      ]
    },
    {
      "cell_type": "code",
      "source": [
        "#generate cluster themes using LLM\n",
        "\n",
        "client = OpenAI(api_key=openai_api_key)\n",
        "\n",
        "def generate_cluster_theme(categories):\n",
        "    prompt = f\"Given the following list of categories for exibhitors at events, please identify a short, precise theme (2-3 words) that best represents each group of exibhitors:\\n\\n{categories}\\n\\nProvide only the theme.\"\n",
        "\n",
        "    response = client.chat.completions.create(\n",
        "        model=\"gpt-4o-mini\",\n",
        "        messages=[\n",
        "            {\"role\": \"system\", \"content\": \"You are a helpful assistant that generates concise, precise themes for clusters.\"},\n",
        "            {\"role\": \"user\", \"content\": prompt}\n",
        "        ]\n",
        "    )\n",
        "\n",
        "    return response.choices[0].message.content.strip()\n",
        "\n",
        "\n",
        "# Dictionary to store cluster themes\n",
        "cluster_themes = {}\n",
        "\n",
        "for cluster_id in sorted(exhibitors_df['Cluster'].unique()):\n",
        "    cluster_data = exhibitors_df[exhibitors_df['Cluster'] == cluster_id]['MainCategories'].tolist()\n",
        "\n",
        "    # Get the theme for the current cluster using GPT-4o-mini\n",
        "    theme = generate_cluster_theme(cluster_data)\n",
        "    cluster_themes[cluster_id] = theme\n",
        "\n",
        "# Print out the generated themes for each cluster using Markdown for better display\n",
        "for cluster_id, theme in cluster_themes.items():\n",
        "    display(Markdown(f\"**Cluster {cluster_id}:** {theme}\"))\n"
      ],
      "metadata": {
        "colab": {
          "base_uri": "https://localhost:8080/",
          "height": 443
        },
        "id": "shKqQ1H8b_Tp",
        "outputId": "bf26faff-b42b-4095-beff-173d66130301"
      },
      "execution_count": 25,
      "outputs": [
        {
          "output_type": "display_data",
          "data": {
            "text/plain": [
              "<IPython.core.display.Markdown object>"
            ],
            "text/markdown": "**Cluster -1:** Event Management"
          },
          "metadata": {}
        },
        {
          "output_type": "display_data",
          "data": {
            "text/plain": [
              "<IPython.core.display.Markdown object>"
            ],
            "text/markdown": "**Cluster 0:** Tourism Offices"
          },
          "metadata": {}
        },
        {
          "output_type": "display_data",
          "data": {
            "text/plain": [
              "<IPython.core.display.Markdown object>"
            ],
            "text/markdown": "**Cluster 1:** Media Innovations"
          },
          "metadata": {}
        },
        {
          "output_type": "display_data",
          "data": {
            "text/plain": [
              "<IPython.core.display.Markdown object>"
            ],
            "text/markdown": "**Cluster 2:** Transport and Payments"
          },
          "metadata": {}
        },
        {
          "output_type": "display_data",
          "data": {
            "text/plain": [
              "<IPython.core.display.Markdown object>"
            ],
            "text/markdown": "**Cluster 3:** Tour Operator Diversity"
          },
          "metadata": {}
        },
        {
          "output_type": "display_data",
          "data": {
            "text/plain": [
              "<IPython.core.display.Markdown object>"
            ],
            "text/markdown": "**Cluster 4:** Financial Services"
          },
          "metadata": {}
        },
        {
          "output_type": "display_data",
          "data": {
            "text/plain": [
              "<IPython.core.display.Markdown object>"
            ],
            "text/markdown": "**Cluster 5:** Healthcare Services"
          },
          "metadata": {}
        },
        {
          "output_type": "display_data",
          "data": {
            "text/plain": [
              "<IPython.core.display.Markdown object>"
            ],
            "text/markdown": "**Cluster 6:** Industry Manufacturers"
          },
          "metadata": {}
        },
        {
          "output_type": "display_data",
          "data": {
            "text/plain": [
              "<IPython.core.display.Markdown object>"
            ],
            "text/markdown": "**Cluster 7:** Diverse Tourism Options"
          },
          "metadata": {}
        },
        {
          "output_type": "display_data",
          "data": {
            "text/plain": [
              "<IPython.core.display.Markdown object>"
            ],
            "text/markdown": "**Cluster 8:** Tourism Specialties"
          },
          "metadata": {}
        },
        {
          "output_type": "display_data",
          "data": {
            "text/plain": [
              "<IPython.core.display.Markdown object>"
            ],
            "text/markdown": "**Cluster 9:** Helicopter Services"
          },
          "metadata": {}
        },
        {
          "output_type": "display_data",
          "data": {
            "text/plain": [
              "<IPython.core.display.Markdown object>"
            ],
            "text/markdown": "**Cluster 10:** Hospitality Services"
          },
          "metadata": {}
        },
        {
          "output_type": "display_data",
          "data": {
            "text/plain": [
              "<IPython.core.display.Markdown object>"
            ],
            "text/markdown": "**Cluster 11:** Accommodation Types"
          },
          "metadata": {}
        },
        {
          "output_type": "display_data",
          "data": {
            "text/plain": [
              "<IPython.core.display.Markdown object>"
            ],
            "text/markdown": "**Cluster 12:** Recreational Vehicles"
          },
          "metadata": {}
        },
        {
          "output_type": "display_data",
          "data": {
            "text/plain": [
              "<IPython.core.display.Markdown object>"
            ],
            "text/markdown": "**Cluster 13:** Cultural Institutions"
          },
          "metadata": {}
        },
        {
          "output_type": "display_data",
          "data": {
            "text/plain": [
              "<IPython.core.display.Markdown object>"
            ],
            "text/markdown": "**Cluster 14:** Wildlife Attractions"
          },
          "metadata": {}
        },
        {
          "output_type": "display_data",
          "data": {
            "text/plain": [
              "<IPython.core.display.Markdown object>"
            ],
            "text/markdown": "**Cluster 15:** Travel Services"
          },
          "metadata": {}
        },
        {
          "output_type": "display_data",
          "data": {
            "text/plain": [
              "<IPython.core.display.Markdown object>"
            ],
            "text/markdown": "**Cluster 16:** Travel Booking Solutions"
          },
          "metadata": {}
        }
      ]
    },
    {
      "cell_type": "code",
      "source": [
        "exhibitors_df[\"Cluster_Theme\"] = exhibitors_df[\"Cluster\"].map(cluster_themes)"
      ],
      "metadata": {
        "id": "HibQz501cIlv"
      },
      "execution_count": 26,
      "outputs": []
    },
    {
      "cell_type": "code",
      "source": [
        "exhibitors_df.to_csv('exhibitors_themes.csv')"
      ],
      "metadata": {
        "id": "d-yssi6bc_mq"
      },
      "execution_count": 27,
      "outputs": []
    },
    {
      "cell_type": "markdown",
      "source": [
        "**VISITORS CLUSTER ANALYSIS**"
      ],
      "metadata": {
        "id": "1YgXyU-dJCP4"
      }
    },
    {
      "cell_type": "code",
      "source": [
        "# Load pre-trained BERT-based model for embeddings\n",
        "model = SentenceTransformer('all-MiniLM-L6-v2')\n",
        "\n",
        "# Filter the DataFrame to get answers for the question \"Please indicate your company's main area of business\"\n",
        "# we are clustering the visitors only based on company's main area of business. we don't conider the answers as it affects the clustering quality\n",
        "question_id = \"5c8a78336d41a10da4f73253\" # question id for main area of business\n",
        "visitor_answers = visitors_df[visitors_df['questionId'] == question_id].copy()\n",
        "\n",
        "\n",
        "print(f\"Number of visitors answering the question: {len(visitor_answers)}\")\n",
        "\n",
        "# Generate embeddings for these answers\n",
        "visitor_embeddings = model.encode(visitor_answers['answer'].tolist(), normalize_embeddings=True)\n",
        "visitor_embeddings = np.array(visitor_embeddings)\n",
        "\n",
        "\n",
        "# Apply UMAP for dimensionality reduction\n",
        "umap_model = umap.UMAP(n_neighbors=6, min_dist=0.05, n_components=2)\n",
        "reduced_embeddings = umap_model.fit_transform(visitor_embeddings)\n",
        "\n",
        "# Apply HDBSCAN clustering\n",
        "clusterer = hdbscan.HDBSCAN(min_cluster_size=3, min_samples=4, metric='euclidean', cluster_selection_method='eom')\n",
        "cluster_labels = clusterer.fit_predict(reduced_embeddings)\n",
        "\n",
        "# Create a dictionary mapping from visitorId to cluster label.\n",
        "visitor_cluster_mapping = dict(zip(visitor_answers['visitorId'].astype(str), cluster_labels))\n",
        "print(\"Visitor Cluster Mapping:\", visitor_cluster_mapping)\n",
        "\n",
        "# Update the full visitors_df with the cluster labels based on visitorId.\n",
        "if 'visitorId' in visitors_df.columns:\n",
        "    visitors_df['visitorId'] = visitors_df['visitorId'].astype(str)\n",
        "    visitors_df['Cluster'] = visitors_df['visitorId'].map(visitor_cluster_mapping)\n",
        "else:\n",
        "    visitors_df.index = visitors_df.index.astype(str)\n",
        "    visitors_df['Cluster'] = visitors_df.index.map(visitor_cluster_mapping)\n",
        "\n",
        "# Fill missing cluster labels for visitors who didn't answer the question with -1.\n",
        "#visitors_df['Cluster'] = visitors_df['Cluster'].fillna(-1).astype(int)\n",
        "\n",
        "if len(set(cluster_labels)) > 1:\n",
        "    silhouette_avg = silhouette_score(reduced_embeddings, cluster_labels)\n",
        "    print(f\"Silhouette Score: {silhouette_avg:.4f}\")\n",
        "else:\n",
        "    print(\"Clusters are not well-formed. Try adjusting parameters.\")\n",
        "\n",
        "print(visitors_df.head())\n"
      ],
      "metadata": {
        "colab": {
          "base_uri": "https://localhost:8080/"
        },
        "id": "JEIEfkBDjC9d",
        "outputId": "88b6ede4-33a6-49b5-8c5f-68dc95ebcb6d"
      },
      "execution_count": 84,
      "outputs": [
        {
          "output_type": "stream",
          "name": "stdout",
          "text": [
            "Number of visitors answering the question: 87\n"
          ]
        },
        {
          "output_type": "stream",
          "name": "stderr",
          "text": [
            "/usr/local/lib/python3.11/dist-packages/sklearn/utils/deprecation.py:151: FutureWarning: 'force_all_finite' was renamed to 'ensure_all_finite' in 1.6 and will be removed in 1.8.\n",
            "  warnings.warn(\n"
          ]
        },
        {
          "output_type": "stream",
          "name": "stdout",
          "text": [
            "Visitor Cluster Mapping: {'67b70a9f2d21f543a1096602': np.int64(2), '67ada1ee197e604dd2722d1b': np.int64(1), '67b44fef197e604dd2722d3d': np.int64(2), '67b45018197e604dd2722d3e': np.int64(2), '67b5f1392d21f543a10965f1': np.int64(0), '67b5e0f7774d9e718c7541db': np.int64(0), '67b45356197e604dd2722d43': np.int64(2), '67b47874197e604dd2722d6f': np.int64(0), '67b708f32d21f543a10965fa': np.int64(2), '67b46946197e604dd2722d5d': np.int64(2), '67b46049197e604dd2722d4a': np.int64(2), '67b46590197e604dd2722d5a': np.int64(2), '67b47714197e604dd2722d69': np.int64(2), '67b47738197e604dd2722d6b': np.int64(2), '67b484a9197e604dd2722d72': np.int64(1), '67b70e142d21f543a1096609': np.int64(0), '67b709442d21f543a10965fe': np.int64(2), '67b70c7a2d21f543a1096605': np.int64(2), '67b46415197e604dd2722d55': np.int64(2), '67bcb979966b8de398095c90': np.int64(2), 'fs2j657x3gpu9hs8v3vuvgz0': np.int64(2), 'xodwfemcnbuqzq632xnlrxt6': np.int64(1), 'fi1h2gygfcwed97ls0e0c31v': np.int64(2), 'xy1nr3sp1vp7r17vtxyg683k': np.int64(2), '3p80z1iocd67z0qvg8ju1cc0': np.int64(0), 'szwocc75sg060he43kny1pzv': np.int64(0), 'kyxbogwp6p8ixqs8ds25v2w6': np.int64(0), 'fnj1fly0ua1tiuvc9pvp5m3r': np.int64(2), '5k1w1e9g4pqtjq6kaswik438': np.int64(2), 'jucfn0c2jtisba29n87e4evt': np.int64(2), '7z4ymlbvgu3ct7w8qjeaycts': np.int64(2), 'unfq2oxirwh1d7iqfgqxwdcd': np.int64(0), 'je2onetovfvjq9eheqd1innr': np.int64(2), 'ktctiej7lv5fikf9ej8tbbdc': np.int64(2), '7ibrdat3zwe6vjvb0sv29jks': np.int64(2), 'tcnfl4z60xouv3fk3w66wtcc': np.int64(2), 'u5wwl65fybur92b90c3hswao': np.int64(2), 'ti4o4ov436gn8yp3j1c61svm': np.int64(0), 'aldevuzj7ns6u2d627eq2q5g': np.int64(2), 'bcmmerckywgc6llx4kxyr1le': np.int64(2), 'ku23k0nqh4urfx3qbmm7e2sy': np.int64(1), 'bqg1ucjqk14u5av22n0jfhjb': np.int64(0), 'zcf116neh1ny42asu75xy0h2': np.int64(2), '8iqywq3m81tjxwfrd0jijyth': np.int64(2), 'e8bxsksz9xo25tg7tvo7z2ho': np.int64(2), 'aq4v0kee568ttej8iiemf43d': np.int64(2), '4877yd3ywtavsxe5acy4vby2': np.int64(2), 'o1qflq1vwy0ysoicvlsg1ftt': np.int64(2), 'wzh3p4rs1362l62x4dh2dikd': np.int64(2), 'f9l91z1a20tmyrx0lk7tcbw0': np.int64(0), 'azs5ghtuwudyxwstbltb0xiz': np.int64(2), 'q6d3mph828gjpg1cu7vsqkx4': np.int64(0), 'i6uv2n0jfrqxhuh90fl90cfv': np.int64(2), 'nvark7mbo9mzipyrs3b05ni5': np.int64(2), 'vgobo8s5ikba7uxggs4oeuzg': np.int64(1), 'yxyhdns9mr7s3k8wdhbd7n5k': np.int64(0), '35d97gdotgwa5lwpd0vs7k0h': np.int64(2), 'd06cnxqs2ghe6egg635797eb': np.int64(2), 'rns6tfx45xfd4zrrzjufi688': np.int64(2), 'fo9fdaazpqxsftbbgkrxi6w6': np.int64(0), '5uytvy9crand6h03ox1elvuc': np.int64(2), 'awomj46ol5mlowhbdqavxwoj': np.int64(1), 'fs5gjd2k2z3o2gif5gni04rs': np.int64(2), '5od7hl76u671o8mjes1qxwsk': np.int64(2), 'ip5ylx2a6dts3f5lak2q2mi3': np.int64(2), 'sl0pqtnqavydiqidf8nxzrea': np.int64(0), 'nwgueloa1n8u9v2eegzvfamb': np.int64(0), '3a17inawhgac2o0xtix3fb3n': np.int64(1), 'y67npjis9odvv7cgl9867epq': np.int64(1), 'hcrco3j3ndo542hbg2twb0np': np.int64(2), 'sou8pmpid2soba8goi4y1p5x': np.int64(2), 'ifuk295cot2nvgcd9m6ees78': np.int64(2), '6k29ezb4owiomwpfb12502zq': np.int64(2), 'rh5y4efxr5rhh3m5u178w86t': np.int64(2), '0wcaegyyobblhhvfzwyibn0a': np.int64(0), 'h6m3ppqa2ui8z922ddkcrdxz': np.int64(2), 'wgf8glx8axdaq94290uynav9': np.int64(0), '870504t2mvyphtv5p2rpqzhu': np.int64(1), 'nbaqmxp4ox9elnfzdq0fykn8': np.int64(0), 'gvlehw939njjmi3fs5c43a7p': np.int64(2), 'y10ilgiji2mozv41r1uvfwo2': np.int64(2), 'yzc27c0f8w2ortjytg54wtmh': np.int64(2), 'j4pb9w5u35nzubtiagk5a61l': np.int64(2), 'gultwxcgf4l0k3psuryptsg2': np.int64(2), 'qy1d6nap87vjj61bqyu9ru50': np.int64(2), 'uud1nluegdqmisnfzpg75iqg': np.int64(2), 'mv0j9yovwhgmtif9l1naciko': np.int64(2)}\n",
            "Silhouette Score: 0.9404\n",
            "   Unnamed: 0                                    email  gender  \\\n",
            "0          14                  emilija+100_L8gA@bss.mk       0   \n",
            "1          20                  emilija+100_L8gA@bss.mk       0   \n",
            "2          23                  emilija+100_L8gA@bss.mk       0   \n",
            "3          31                  emilija+100_L8gA@bss.mk       0   \n",
            "4          47  aleksandar.dimkov+mitt1_n5eA@bss.com.mk       1   \n",
            "\n",
            "                  visitorId                    stepId  \\\n",
            "0  67b70a9f2d21f543a1096602  5c8a78336d41a10da4f730fd   \n",
            "1  67b70a9f2d21f543a1096602  5c8a78336d41a10da4f73225   \n",
            "2  67b70a9f2d21f543a1096602  5c8a78336d41a10da4f73252   \n",
            "3  67b70a9f2d21f543a1096602  5c8a78336d41a10da4f7336c   \n",
            "4  67ada1ee197e604dd2722d1b  5c8a78336d41a10da4f730fd   \n",
            "\n",
            "                 questionId  answerValue                  answerId  \\\n",
            "0  5c8a78336d41a10da4f730fe          NaN  5c8a78336d41a10da4f73100   \n",
            "1  5c8a78336d41a10da4f73227          NaN  5c8a78336d41a10da4f73244   \n",
            "2  5c8a78336d41a10da4f73253          NaN  5c8a78336d41a10da4f73291   \n",
            "3  5c8a78336d41a10da4f7336d          NaN  5c8a78336d41a10da4f73371   \n",
            "4  5c8a78336d41a10da4f730fe          NaN  5c8a78336d41a10da4f730ff   \n",
            "\n",
            "  answerTypeId                                           question  \\\n",
            "0       Answer                     Reason for Attending the Event   \n",
            "1       Answer  Which of the following best describes your job...   \n",
            "2       Answer  Please indicate your company's main area of bu...   \n",
            "3       Answer  What role do you play in the purchasing decisi...   \n",
            "4       Answer                     Reason for Attending the Event   \n",
            "\n",
            "                            answer  Cluster  \n",
            "0    To obtain general information      2.0  \n",
            "1                            Media      2.0  \n",
            "2                     Travel Agent      2.0  \n",
            "3                     No influence      2.0  \n",
            "4  To source products and services      1.0  \n"
          ]
        },
        {
          "output_type": "stream",
          "name": "stderr",
          "text": [
            "/usr/local/lib/python3.11/dist-packages/sklearn/utils/deprecation.py:151: FutureWarning: 'force_all_finite' was renamed to 'ensure_all_finite' in 1.6 and will be removed in 1.8.\n",
            "  warnings.warn(\n",
            "/usr/local/lib/python3.11/dist-packages/sklearn/utils/deprecation.py:151: FutureWarning: 'force_all_finite' was renamed to 'ensure_all_finite' in 1.6 and will be removed in 1.8.\n",
            "  warnings.warn(\n"
          ]
        }
      ]
    },
    {
      "cell_type": "code",
      "source": [
        "cluster_labels"
      ],
      "metadata": {
        "colab": {
          "base_uri": "https://localhost:8080/"
        },
        "id": "tmi1Q_zeNgSe",
        "outputId": "dcc58717-4f27-46c4-f7f5-d25cbc3772b5"
      },
      "execution_count": 85,
      "outputs": [
        {
          "output_type": "execute_result",
          "data": {
            "text/plain": [
              "array([2, 1, 2, 2, 0, 0, 2, 0, 2, 2, 2, 2, 2, 2, 1, 0, 2, 2, 2, 2, 2, 1,\n",
              "       2, 2, 0, 0, 0, 2, 2, 2, 2, 0, 2, 2, 2, 2, 2, 0, 2, 2, 1, 0, 2, 2,\n",
              "       2, 2, 2, 2, 2, 0, 2, 0, 2, 2, 1, 0, 2, 2, 2, 0, 2, 1, 2, 2, 2, 0,\n",
              "       0, 1, 1, 2, 2, 2, 2, 2, 0, 2, 0, 1, 0, 2, 2, 2, 2, 2, 2, 2, 2])"
            ]
          },
          "metadata": {},
          "execution_count": 85
        }
      ]
    },
    {
      "cell_type": "code",
      "source": [
        "import matplotlib.pyplot as plt\n",
        "\n",
        "# Visualize the reduced embeddings\n",
        "plt.scatter(reduced_embeddings[:, 0], reduced_embeddings[:, 1], c=cluster_labels, cmap='viridis')\n",
        "plt.colorbar(label='Cluster')\n",
        "plt.title('UMAP Projection of Visitor Embeddings')\n",
        "plt.show()\n"
      ],
      "metadata": {
        "colab": {
          "base_uri": "https://localhost:8080/",
          "height": 452
        },
        "id": "zdNDrrQLNHmy",
        "outputId": "062bc27b-7f68-4976-e433-cf3fb8a404be"
      },
      "execution_count": 86,
      "outputs": [
        {
          "output_type": "display_data",
          "data": {
            "text/plain": [
              "<Figure size 640x480 with 2 Axes>"
            ],
            "image/png": "[encoded data removed]"
          },
          "metadata": {}
        }
      ]
    },
    {
      "cell_type": "code",
      "source": [
        "for cluster_id in sorted(visitors_df['Cluster'].unique()):\n",
        "    print(f\"\\nCluster {cluster_id}:\\n\" + \"-\"*40)\n",
        "\n",
        "    cluster_data = visitors_df[(visitors_df['Cluster'] == cluster_id) & (visitors_df['questionId'] == question_id)][['answer']]\n",
        "\n",
        "    # Print unique answers only for each cluster\n",
        "    unique_answers = cluster_data['answer'].unique()\n",
        "    for answer in unique_answers:\n",
        "        print(answer)\n"
      ],
      "metadata": {
        "colab": {
          "base_uri": "https://localhost:8080/"
        },
        "id": "EycymB_k3SGI",
        "outputId": "9b69aa2a-1baf-44fd-c384-65b944b68bd3"
      },
      "execution_count": 87,
      "outputs": [
        {
          "output_type": "stream",
          "name": "stdout",
          "text": [
            "\n",
            "Cluster 0.0:\n",
            "----------------------------------------\n",
            "Tour Operator\n",
            "\n",
            "Cluster 1.0:\n",
            "----------------------------------------\n",
            "Event management\n",
            "\n",
            "Cluster 2.0:\n",
            "----------------------------------------\n",
            "Travel Agent\n",
            "IT solutions for travel industry\n",
            "Accommodation Provider\n",
            "\n",
            "Cluster nan:\n",
            "----------------------------------------\n"
          ]
        }
      ]
    },
    {
      "cell_type": "code",
      "source": [
        "import openai\n",
        "import pandas as pd\n",
        "from openai import OpenAI\n",
        "from IPython.display import display, Markdown\n",
        "\n",
        "# Initialize OpenAI client\n",
        "client = OpenAI(api_key=openai_api_key)\n",
        "\n",
        "def generate_cluster_theme(categories):\n",
        "    # Join the list of categories into a string for the prompt\n",
        "    prompt = f\"Given the following list of responses for a specific question, please identify a short, precise theme (2-3 words) that best represents each group of responses:\\n\\n{categories}\\n\\nProvide only the theme.\"\n",
        "\n",
        "    response = client.chat.completions.create(\n",
        "        model=\"gpt-4o-mini\",\n",
        "        messages=[{\n",
        "            \"role\": \"system\",\n",
        "            \"content\": \"You are a helpful assistant that generates concise, precise themes for clusters based on the provided responses.\"\n",
        "        },\n",
        "        {\n",
        "            \"role\": \"user\",\n",
        "            \"content\": prompt\n",
        "        }]\n",
        "    )\n",
        "\n",
        "    # Extract and return the theme from the response\n",
        "    return response.choices[0].message.content.strip()\n",
        "\n",
        "\n",
        "# Dictionary to store cluster themes\n",
        "cluster_themes = {}\n",
        "\n",
        "# For each unique cluster, get the answers for that cluster and generate the theme\n",
        "for cluster_id in sorted(visitors_df['Cluster'].unique()):\n",
        "    print(cluster_id)\n",
        "    # Filter data for the specific cluster\n",
        "    cluster_data = visitors_df[(visitors_df['Cluster'] == cluster_id) & (visitors_df['questionId'] == question_id)]['answer'].unique().tolist()\n",
        "    print(cluster_data)\n",
        "\n",
        "#     # Get the theme for the current cluster using GPT-4o-mini\n",
        "    theme = generate_cluster_theme(cluster_data)\n",
        "    cluster_themes[cluster_id] = theme\n",
        "\n",
        "# # Print out the generated themes for each cluster using Markdown for better display\n",
        "for cluster_id, theme in cluster_themes.items():\n",
        "    display(Markdown(f\"**Cluster {cluster_id}:** {theme}\"))\n"
      ],
      "metadata": {
        "colab": {
          "base_uri": "https://localhost:8080/",
          "height": 255
        },
        "id": "rgcLzWqnz1r0",
        "outputId": "920b65c8-d8df-4545-c289-b11adec10690"
      },
      "execution_count": 88,
      "outputs": [
        {
          "output_type": "stream",
          "name": "stdout",
          "text": [
            "0.0\n",
            "['Tour Operator']\n",
            "1.0\n",
            "['Event management']\n",
            "2.0\n",
            "['Travel Agent', 'IT solutions for travel industry', 'Accommodation Provider']\n",
            "nan\n",
            "[]\n"
          ]
        },
        {
          "output_type": "display_data",
          "data": {
            "text/plain": [
              "<IPython.core.display.Markdown object>"
            ],
            "text/markdown": "**Cluster 0.0:** Tourism Services"
          },
          "metadata": {}
        },
        {
          "output_type": "display_data",
          "data": {
            "text/plain": [
              "<IPython.core.display.Markdown object>"
            ],
            "text/markdown": "**Cluster 1.0:** Event Management"
          },
          "metadata": {}
        },
        {
          "output_type": "display_data",
          "data": {
            "text/plain": [
              "<IPython.core.display.Markdown object>"
            ],
            "text/markdown": "**Cluster 2.0:** Travel Industry Services"
          },
          "metadata": {}
        },
        {
          "output_type": "display_data",
          "data": {
            "text/plain": [
              "<IPython.core.display.Markdown object>"
            ],
            "text/markdown": "**Cluster nan:** No responses provided."
          },
          "metadata": {}
        }
      ]
    },
    {
      "cell_type": "code",
      "source": [
        "visitors_df[\"Cluster_Theme\"] = visitors_df[\"Cluster\"].map(cluster_themes)"
      ],
      "metadata": {
        "id": "7UdCg_9fkHaF"
      },
      "execution_count": 89,
      "outputs": []
    },
    {
      "cell_type": "code",
      "source": [
        "visitors_df"
      ],
      "metadata": {
        "colab": {
          "base_uri": "https://localhost:8080/",
          "height": 1000
        },
        "id": "GMbVSvmTEBmU",
        "outputId": "50d9d79c-795b-4f96-e895-dac71a1fce27"
      },
      "execution_count": 90,
      "outputs": [
        {
          "output_type": "execute_result",
          "data": {
            "text/plain": [
              "     Unnamed: 0                                    email  gender  \\\n",
              "0            14                  emilija+100_L8gA@bss.mk       0   \n",
              "1            20                  emilija+100_L8gA@bss.mk       0   \n",
              "2            23                  emilija+100_L8gA@bss.mk       0   \n",
              "3            31                  emilija+100_L8gA@bss.mk       0   \n",
              "4            47  aleksandar.dimkov+mitt1_n5eA@bss.com.mk       1   \n",
              "..          ...                                      ...     ...   \n",
              "356        2795       daniela.p+200_IzcX_QOfF@bss.com.mk       1   \n",
              "357        2812       daniela.p+200_IzcX_CIHU@bss.com.mk       1   \n",
              "358        2817       daniela.p+200_IzcX_CIHU@bss.com.mk       1   \n",
              "359        2819       daniela.p+200_IzcX_CIHU@bss.com.mk       1   \n",
              "360        2824       daniela.p+200_IzcX_CIHU@bss.com.mk       1   \n",
              "\n",
              "                    visitorId                    stepId  \\\n",
              "0    67b70a9f2d21f543a1096602  5c8a78336d41a10da4f730fd   \n",
              "1    67b70a9f2d21f543a1096602  5c8a78336d41a10da4f73225   \n",
              "2    67b70a9f2d21f543a1096602  5c8a78336d41a10da4f73252   \n",
              "3    67b70a9f2d21f543a1096602  5c8a78336d41a10da4f7336c   \n",
              "4    67ada1ee197e604dd2722d1b  5c8a78336d41a10da4f730fd   \n",
              "..                        ...                       ...   \n",
              "356  uud1nluegdqmisnfzpg75iqg  5c8a78336d41a10da4f7336c   \n",
              "357  mv0j9yovwhgmtif9l1naciko  5c8a78336d41a10da4f730fd   \n",
              "358  mv0j9yovwhgmtif9l1naciko  5c8a78336d41a10da4f73225   \n",
              "359  mv0j9yovwhgmtif9l1naciko  5c8a78336d41a10da4f73252   \n",
              "360  mv0j9yovwhgmtif9l1naciko  5c8a78336d41a10da4f7336c   \n",
              "\n",
              "                   questionId  answerValue                  answerId  \\\n",
              "0    5c8a78336d41a10da4f730fe          NaN  5c8a78336d41a10da4f73100   \n",
              "1    5c8a78336d41a10da4f73227          NaN  5c8a78336d41a10da4f73244   \n",
              "2    5c8a78336d41a10da4f73253          NaN  5c8a78336d41a10da4f73291   \n",
              "3    5c8a78336d41a10da4f7336d          NaN  5c8a78336d41a10da4f73371   \n",
              "4    5c8a78336d41a10da4f730fe          NaN  5c8a78336d41a10da4f730ff   \n",
              "..                        ...          ...                       ...   \n",
              "356  5c8a78336d41a10da4f7336d          NaN  5c8a78336d41a10da4f73370   \n",
              "357  5c8a78336d41a10da4f730fe          NaN  5c8a78336d41a10da4f73100   \n",
              "358  5c8a78336d41a10da4f73227          NaN  5c8a78336d41a10da4f7323d   \n",
              "359  5c8a78336d41a10da4f73253          NaN  5c8a78336d41a10da4f73291   \n",
              "360  5c8a78336d41a10da4f7336d          NaN  5c8a78336d41a10da4f73370   \n",
              "\n",
              "    answerTypeId                                           question  \\\n",
              "0         Answer                     Reason for Attending the Event   \n",
              "1         Answer  Which of the following best describes your job...   \n",
              "2         Answer  Please indicate your company's main area of bu...   \n",
              "3         Answer  What role do you play in the purchasing decisi...   \n",
              "4         Answer                     Reason for Attending the Event   \n",
              "..           ...                                                ...   \n",
              "356       Answer  What role do you play in the purchasing decisi...   \n",
              "357       Answer                     Reason for Attending the Event   \n",
              "358       Answer  Which of the following best describes your job...   \n",
              "359       Answer  Please indicate your company's main area of bu...   \n",
              "360       Answer  What role do you play in the purchasing decisi...   \n",
              "\n",
              "                              answer  Cluster             Cluster_Theme  \n",
              "0      To obtain general information      2.0  Travel Industry Services  \n",
              "1                              Media      2.0  Travel Industry Services  \n",
              "2                       Travel Agent      2.0  Travel Industry Services  \n",
              "3                       No influence      2.0  Travel Industry Services  \n",
              "4    To source products and services      1.0          Event Management  \n",
              "..                               ...      ...                       ...  \n",
              "356                    Advisory role      2.0  Travel Industry Services  \n",
              "357    To obtain general information      2.0  Travel Industry Services  \n",
              "358             Guided tour services      2.0  Travel Industry Services  \n",
              "359                     Travel Agent      2.0  Travel Industry Services  \n",
              "360                    Advisory role      2.0  Travel Industry Services  \n",
              "\n",
              "[361 rows x 13 columns]"
            ],
            "text/html": [
              "\n",
              "  <div id=\"df-c98c8f93-064f-4722-9ed2-fe67beef7503\" class=\"colab-df-container\">\n",
              "    <div>\n",
              "<style scoped>\n",
              "    .dataframe tbody tr th:only-of-type {\n",
              "        vertical-align: middle;\n",
              "    }\n",
              "\n",
              "    .dataframe tbody tr th {\n",
              "        vertical-align: top;\n",
              "    }\n",
              "\n",
              "    .dataframe thead th {\n",
              "        text-align: right;\n",
              "    }\n",
              "</style>\n",
              "<table border=\"1\" class=\"dataframe\">\n",
              "  <thead>\n",
              "    <tr style=\"text-align: right;\">\n",
              "      <th></th>\n",
              "      <th>Unnamed: 0</th>\n",
              "      <th>email</th>\n",
              "      <th>gender</th>\n",
              "      <th>visitorId</th>\n",
              "      <th>stepId</th>\n",
              "      <th>questionId</th>\n",
              "      <th>answerValue</th>\n",
              "      <th>answerId</th>\n",
              "      <th>answerTypeId</th>\n",
              "      <th>question</th>\n",
              "      <th>answer</th>\n",
              "      <th>Cluster</th>\n",
              "      <th>Cluster_Theme</th>\n",
              "    </tr>\n",
              "  </thead>\n",
              "  <tbody>\n",
              "    <tr>\n",
              "      <th>0</th>\n",
              "      <td>14</td>\n",
              "      <td>emilija+100_L8gA@bss.mk</td>\n",
              "      <td>0</td>\n",
              "      <td>67b70a9f2d21f543a1096602</td>\n",
              "      <td>5c8a78336d41a10da4f730fd</td>\n",
              "      <td>5c8a78336d41a10da4f730fe</td>\n",
              "      <td>NaN</td>\n",
              "      <td>5c8a78336d41a10da4f73100</td>\n",
              "      <td>Answer</td>\n",
              "      <td>Reason for Attending the Event</td>\n",
              "      <td>To obtain general information</td>\n",
              "      <td>2.0</td>\n",
              "      <td>Travel Industry Services</td>\n",
              "    </tr>\n",
              "    <tr>\n",
              "      <th>1</th>\n",
              "      <td>20</td>\n",
              "      <td>emilija+100_L8gA@bss.mk</td>\n",
              "      <td>0</td>\n",
              "      <td>67b70a9f2d21f543a1096602</td>\n",
              "      <td>5c8a78336d41a10da4f73225</td>\n",
              "      <td>5c8a78336d41a10da4f73227</td>\n",
              "      <td>NaN</td>\n",
              "      <td>5c8a78336d41a10da4f73244</td>\n",
              "      <td>Answer</td>\n",
              "      <td>Which of the following best describes your job...</td>\n",
              "      <td>Media</td>\n",
              "      <td>2.0</td>\n",
              "      <td>Travel Industry Services</td>\n",
              "    </tr>\n",
              "    <tr>\n",
              "      <th>2</th>\n",
              "      <td>23</td>\n",
              "      <td>emilija+100_L8gA@bss.mk</td>\n",
              "      <td>0</td>\n",
              "      <td>67b70a9f2d21f543a1096602</td>\n",
              "      <td>5c8a78336d41a10da4f73252</td>\n",
              "      <td>5c8a78336d41a10da4f73253</td>\n",
              "      <td>NaN</td>\n",
              "      <td>5c8a78336d41a10da4f73291</td>\n",
              "      <td>Answer</td>\n",
              "      <td>Please indicate your company's main area of bu...</td>\n",
              "      <td>Travel Agent</td>\n",
              "      <td>2.0</td>\n",
              "      <td>Travel Industry Services</td>\n",
              "    </tr>\n",
              "    <tr>\n",
              "      <th>3</th>\n",
              "      <td>31</td>\n",
              "      <td>emilija+100_L8gA@bss.mk</td>\n",
              "      <td>0</td>\n",
              "      <td>67b70a9f2d21f543a1096602</td>\n",
              "      <td>5c8a78336d41a10da4f7336c</td>\n",
              "      <td>5c8a78336d41a10da4f7336d</td>\n",
              "      <td>NaN</td>\n",
              "      <td>5c8a78336d41a10da4f73371</td>\n",
              "      <td>Answer</td>\n",
              "      <td>What role do you play in the purchasing decisi...</td>\n",
              "      <td>No influence</td>\n",
              "      <td>2.0</td>\n",
              "      <td>Travel Industry Services</td>\n",
              "    </tr>\n",
              "    <tr>\n",
              "      <th>4</th>\n",
              "      <td>47</td>\n",
              "      <td>aleksandar.dimkov+mitt1_n5eA@bss.com.mk</td>\n",
              "      <td>1</td>\n",
              "      <td>67ada1ee197e604dd2722d1b</td>\n",
              "      <td>5c8a78336d41a10da4f730fd</td>\n",
              "      <td>5c8a78336d41a10da4f730fe</td>\n",
              "      <td>NaN</td>\n",
              "      <td>5c8a78336d41a10da4f730ff</td>\n",
              "      <td>Answer</td>\n",
              "      <td>Reason for Attending the Event</td>\n",
              "      <td>To source products and services</td>\n",
              "      <td>1.0</td>\n",
              "      <td>Event Management</td>\n",
              "    </tr>\n",
              "    <tr>\n",
              "      <th>...</th>\n",
              "      <td>...</td>\n",
              "      <td>...</td>\n",
              "      <td>...</td>\n",
              "      <td>...</td>\n",
              "      <td>...</td>\n",
              "      <td>...</td>\n",
              "      <td>...</td>\n",
              "      <td>...</td>\n",
              "      <td>...</td>\n",
              "      <td>...</td>\n",
              "      <td>...</td>\n",
              "      <td>...</td>\n",
              "      <td>...</td>\n",
              "    </tr>\n",
              "    <tr>\n",
              "      <th>356</th>\n",
              "      <td>2795</td>\n",
              "      <td>daniela.p+200_IzcX_QOfF@bss.com.mk</td>\n",
              "      <td>1</td>\n",
              "      <td>uud1nluegdqmisnfzpg75iqg</td>\n",
              "      <td>5c8a78336d41a10da4f7336c</td>\n",
              "      <td>5c8a78336d41a10da4f7336d</td>\n",
              "      <td>NaN</td>\n",
              "      <td>5c8a78336d41a10da4f73370</td>\n",
              "      <td>Answer</td>\n",
              "      <td>What role do you play in the purchasing decisi...</td>\n",
              "      <td>Advisory role</td>\n",
              "      <td>2.0</td>\n",
              "      <td>Travel Industry Services</td>\n",
              "    </tr>\n",
              "    <tr>\n",
              "      <th>357</th>\n",
              "      <td>2812</td>\n",
              "      <td>daniela.p+200_IzcX_CIHU@bss.com.mk</td>\n",
              "      <td>1</td>\n",
              "      <td>mv0j9yovwhgmtif9l1naciko</td>\n",
              "      <td>5c8a78336d41a10da4f730fd</td>\n",
              "      <td>5c8a78336d41a10da4f730fe</td>\n",
              "      <td>NaN</td>\n",
              "      <td>5c8a78336d41a10da4f73100</td>\n",
              "      <td>Answer</td>\n",
              "      <td>Reason for Attending the Event</td>\n",
              "      <td>To obtain general information</td>\n",
              "      <td>2.0</td>\n",
              "      <td>Travel Industry Services</td>\n",
              "    </tr>\n",
              "    <tr>\n",
              "      <th>358</th>\n",
              "      <td>2817</td>\n",
              "      <td>daniela.p+200_IzcX_CIHU@bss.com.mk</td>\n",
              "      <td>1</td>\n",
              "      <td>mv0j9yovwhgmtif9l1naciko</td>\n",
              "      <td>5c8a78336d41a10da4f73225</td>\n",
              "      <td>5c8a78336d41a10da4f73227</td>\n",
              "      <td>NaN</td>\n",
              "      <td>5c8a78336d41a10da4f7323d</td>\n",
              "      <td>Answer</td>\n",
              "      <td>Which of the following best describes your job...</td>\n",
              "      <td>Guided tour services</td>\n",
              "      <td>2.0</td>\n",
              "      <td>Travel Industry Services</td>\n",
              "    </tr>\n",
              "    <tr>\n",
              "      <th>359</th>\n",
              "      <td>2819</td>\n",
              "      <td>daniela.p+200_IzcX_CIHU@bss.com.mk</td>\n",
              "      <td>1</td>\n",
              "      <td>mv0j9yovwhgmtif9l1naciko</td>\n",
              "      <td>5c8a78336d41a10da4f73252</td>\n",
              "      <td>5c8a78336d41a10da4f73253</td>\n",
              "      <td>NaN</td>\n",
              "      <td>5c8a78336d41a10da4f73291</td>\n",
              "      <td>Answer</td>\n",
              "      <td>Please indicate your company's main area of bu...</td>\n",
              "      <td>Travel Agent</td>\n",
              "      <td>2.0</td>\n",
              "      <td>Travel Industry Services</td>\n",
              "    </tr>\n",
              "    <tr>\n",
              "      <th>360</th>\n",
              "      <td>2824</td>\n",
              "      <td>daniela.p+200_IzcX_CIHU@bss.com.mk</td>\n",
              "      <td>1</td>\n",
              "      <td>mv0j9yovwhgmtif9l1naciko</td>\n",
              "      <td>5c8a78336d41a10da4f7336c</td>\n",
              "      <td>5c8a78336d41a10da4f7336d</td>\n",
              "      <td>NaN</td>\n",
              "      <td>5c8a78336d41a10da4f73370</td>\n",
              "      <td>Answer</td>\n",
              "      <td>What role do you play in the purchasing decisi...</td>\n",
              "      <td>Advisory role</td>\n",
              "      <td>2.0</td>\n",
              "      <td>Travel Industry Services</td>\n",
              "    </tr>\n",
              "  </tbody>\n",
              "</table>\n",
              "<p>361 rows × 13 columns</p>\n",
              "</div>\n",
              "    <div class=\"colab-df-buttons\">\n",
              "\n",
              "  <div class=\"colab-df-container\">\n",
              "    <button class=\"colab-df-convert\" onclick=\"convertToInteractive('df-c98c8f93-064f-4722-9ed2-fe67beef7503')\"\n",
              "            title=\"Convert this dataframe to an interactive table.\"\n",
              "            style=\"display:none;\">\n",
              "\n",
              "  <svg xmlns=\"http://www.w3.org/2000/svg\" height=\"24px\" viewBox=\"0 -960 960 960\">\n",
              "    <path d=\"M120-120v-720h720v720H120Zm60-500h600v-160H180v160Zm220 220h160v-160H400v160Zm0 220h160v-160H400v160ZM180-400h160v-160H180v160Zm440 0h160v-160H620v160ZM180-180h160v-160H180v160Zm440 0h160v-160H620v160Z\"/>\n",
              "  </svg>\n",
              "    </button>\n",
              "\n",
              "  <style>\n",
              "    .colab-df-container {\n",
              "      display:flex;\n",
              "      gap: 12px;\n",
              "    }\n",
              "\n",
              "    .colab-df-convert {\n",
              "      background-color: #E8F0FE;\n",
              "      border: none;\n",
              "      border-radius: 50%;\n",
              "      cursor: pointer;\n",
              "      display: none;\n",
              "      fill: #1967D2;\n",
              "      height: 32px;\n",
              "      padding: 0 0 0 0;\n",
              "      width: 32px;\n",
              "    }\n",
              "\n",
              "    .colab-df-convert:hover {\n",
              "      background-color: #E2EBFA;\n",
              "      box-shadow: 0px 1px 2px rgba(60, 64, 67, 0.3), 0px 1px 3px 1px rgba(60, 64, 67, 0.15);\n",
              "      fill: #174EA6;\n",
              "    }\n",
              "\n",
              "    .colab-df-buttons div {\n",
              "      margin-bottom: 4px;\n",
              "    }\n",
              "\n",
              "    [theme=dark] .colab-df-convert {\n",
              "      background-color: #3B4455;\n",
              "      fill: #D2E3FC;\n",
              "    }\n",
              "\n",
              "    [theme=dark] .colab-df-convert:hover {\n",
              "      background-color: #434B5C;\n",
              "      box-shadow: 0px 1px 3px 1px rgba(0, 0, 0, 0.15);\n",
              "      filter: drop-shadow(0px 1px 2px rgba(0, 0, 0, 0.3));\n",
              "      fill: #FFFFFF;\n",
              "    }\n",
              "  </style>\n",
              "\n",
              "    <script>\n",
              "      const buttonEl =\n",
              "        document.querySelector('#df-c98c8f93-064f-4722-9ed2-fe67beef7503 button.colab-df-convert');\n",
              "      buttonEl.style.display =\n",
              "        google.colab.kernel.accessAllowed ? 'block' : 'none';\n",
              "\n",
              "      async function convertToInteractive(key) {\n",
              "        const element = document.querySelector('#df-c98c8f93-064f-4722-9ed2-fe67beef7503');\n",
              "        const dataTable =\n",
              "          await google.colab.kernel.invokeFunction('convertToInteractive',\n",
              "                                                    [key], {});\n",
              "        if (!dataTable) return;\n",
              "\n",
              "        const docLinkHtml = 'Like what you see? Visit the ' +\n",
              "          '<a target=\"_blank\" href=https://colab.research.google.com/notebooks/data_table.ipynb>data table notebook</a>'\n",
              "          + ' to learn more about interactive tables.';\n",
              "        element.innerHTML = '';\n",
              "        dataTable['output_type'] = 'display_data';\n",
              "        await google.colab.output.renderOutput(dataTable, element);\n",
              "        const docLink = document.createElement('div');\n",
              "        docLink.innerHTML = docLinkHtml;\n",
              "        element.appendChild(docLink);\n",
              "      }\n",
              "    </script>\n",
              "  </div>\n",
              "\n",
              "\n",
              "<div id=\"df-ee5957d8-a530-4ff6-a16f-fd4864509578\">\n",
              "  <button class=\"colab-df-quickchart\" onclick=\"quickchart('df-ee5957d8-a530-4ff6-a16f-fd4864509578')\"\n",
              "            title=\"Suggest charts\"\n",
              "            style=\"display:none;\">\n",
              "\n",
              "<svg xmlns=\"http://www.w3.org/2000/svg\" height=\"24px\"viewBox=\"0 0 24 24\"\n",
              "     width=\"24px\">\n",
              "    <g>\n",
              "        <path d=\"M19 3H5c-1.1 0-2 .9-2 2v14c0 1.1.9 2 2 2h14c1.1 0 2-.9 2-2V5c0-1.1-.9-2-2-2zM9 17H7v-7h2v7zm4 0h-2V7h2v10zm4 0h-2v-4h2v4z\"/>\n",
              "    </g>\n",
              "</svg>\n",
              "  </button>\n",
              "\n",
              "<style>\n",
              "  .colab-df-quickchart {\n",
              "      --bg-color: #E8F0FE;\n",
              "      --fill-color: #1967D2;\n",
              "      --hover-bg-color: #E2EBFA;\n",
              "      --hover-fill-color: #174EA6;\n",
              "      --disabled-fill-color: #AAA;\n",
              "      --disabled-bg-color: #DDD;\n",
              "  }\n",
              "\n",
              "  [theme=dark] .colab-df-quickchart {\n",
              "      --bg-color: #3B4455;\n",
              "      --fill-color: #D2E3FC;\n",
              "      --hover-bg-color: #434B5C;\n",
              "      --hover-fill-color: #FFFFFF;\n",
              "      --disabled-bg-color: #3B4455;\n",
              "      --disabled-fill-color: #666;\n",
              "  }\n",
              "\n",
              "  .colab-df-quickchart {\n",
              "    background-color: var(--bg-color);\n",
              "    border: none;\n",
              "    border-radius: 50%;\n",
              "    cursor: pointer;\n",
              "    display: none;\n",
              "    fill: var(--fill-color);\n",
              "    height: 32px;\n",
              "    padding: 0;\n",
              "    width: 32px;\n",
              "  }\n",
              "\n",
              "  .colab-df-quickchart:hover {\n",
              "    background-color: var(--hover-bg-color);\n",
              "    box-shadow: 0 1px 2px rgba(60, 64, 67, 0.3), 0 1px 3px 1px rgba(60, 64, 67, 0.15);\n",
              "    fill: var(--button-hover-fill-color);\n",
              "  }\n",
              "\n",
              "  .colab-df-quickchart-complete:disabled,\n",
              "  .colab-df-quickchart-complete:disabled:hover {\n",
              "    background-color: var(--disabled-bg-color);\n",
              "    fill: var(--disabled-fill-color);\n",
              "    box-shadow: none;\n",
              "  }\n",
              "\n",
              "  .colab-df-spinner {\n",
              "    border: 2px solid var(--fill-color);\n",
              "    border-color: transparent;\n",
              "    border-bottom-color: var(--fill-color);\n",
              "    animation:\n",
              "      spin 1s steps(1) infinite;\n",
              "  }\n",
              "\n",
              "  @keyframes spin {\n",
              "    0% {\n",
              "      border-color: transparent;\n",
              "      border-bottom-color: var(--fill-color);\n",
              "      border-left-color: var(--fill-color);\n",
              "    }\n",
              "    20% {\n",
              "      border-color: transparent;\n",
              "      border-left-color: var(--fill-color);\n",
              "      border-top-color: var(--fill-color);\n",
              "    }\n",
              "    30% {\n",
              "      border-color: transparent;\n",
              "      border-left-color: var(--fill-color);\n",
              "      border-top-color: var(--fill-color);\n",
              "      border-right-color: var(--fill-color);\n",
              "    }\n",
              "    40% {\n",
              "      border-color: transparent;\n",
              "      border-right-color: var(--fill-color);\n",
              "      border-top-color: var(--fill-color);\n",
              "    }\n",
              "    60% {\n",
              "      border-color: transparent;\n",
              "      border-right-color: var(--fill-color);\n",
              "    }\n",
              "    80% {\n",
              "      border-color: transparent;\n",
              "      border-right-color: var(--fill-color);\n",
              "      border-bottom-color: var(--fill-color);\n",
              "    }\n",
              "    90% {\n",
              "      border-color: transparent;\n",
              "      border-bottom-color: var(--fill-color);\n",
              "    }\n",
              "  }\n",
              "</style>\n",
              "\n",
              "  <script>\n",
              "    async function quickchart(key) {\n",
              "      const quickchartButtonEl =\n",
              "        document.querySelector('#' + key + ' button');\n",
              "      quickchartButtonEl.disabled = true;  // To prevent multiple clicks.\n",
              "      quickchartButtonEl.classList.add('colab-df-spinner');\n",
              "      try {\n",
              "        const charts = await google.colab.kernel.invokeFunction(\n",
              "            'suggestCharts', [key], {});\n",
              "      } catch (error) {\n",
              "        console.error('Error during call to suggestCharts:', error);\n",
              "      }\n",
              "      quickchartButtonEl.classList.remove('colab-df-spinner');\n",
              "      quickchartButtonEl.classList.add('colab-df-quickchart-complete');\n",
              "    }\n",
              "    (() => {\n",
              "      let quickchartButtonEl =\n",
              "        document.querySelector('#df-ee5957d8-a530-4ff6-a16f-fd4864509578 button');\n",
              "      quickchartButtonEl.style.display =\n",
              "        google.colab.kernel.accessAllowed ? 'block' : 'none';\n",
              "    })();\n",
              "  </script>\n",
              "</div>\n",
              "\n",
              "  <div id=\"id_aed5fbf5-edb1-4ec8-9284-0d3d5b03babe\">\n",
              "    <style>\n",
              "      .colab-df-generate {\n",
              "        background-color: #E8F0FE;\n",
              "        border: none;\n",
              "        border-radius: 50%;\n",
              "        cursor: pointer;\n",
              "        display: none;\n",
              "        fill: #1967D2;\n",
              "        height: 32px;\n",
              "        padding: 0 0 0 0;\n",
              "        width: 32px;\n",
              "      }\n",
              "\n",
              "      .colab-df-generate:hover {\n",
              "        background-color: #E2EBFA;\n",
              "        box-shadow: 0px 1px 2px rgba(60, 64, 67, 0.3), 0px 1px 3px 1px rgba(60, 64, 67, 0.15);\n",
              "        fill: #174EA6;\n",
              "      }\n",
              "\n",
              "      [theme=dark] .colab-df-generate {\n",
              "        background-color: #3B4455;\n",
              "        fill: #D2E3FC;\n",
              "      }\n",
              "\n",
              "      [theme=dark] .colab-df-generate:hover {\n",
              "        background-color: #434B5C;\n",
              "        box-shadow: 0px 1px 3px 1px rgba(0, 0, 0, 0.15);\n",
              "        filter: drop-shadow(0px 1px 2px rgba(0, 0, 0, 0.3));\n",
              "        fill: #FFFFFF;\n",
              "      }\n",
              "    </style>\n",
              "    <button class=\"colab-df-generate\" onclick=\"generateWithVariable('visitors_df')\"\n",
              "            title=\"Generate code using this dataframe.\"\n",
              "            style=\"display:none;\">\n",
              "\n",
              "  <svg xmlns=\"http://www.w3.org/2000/svg\" height=\"24px\"viewBox=\"0 0 24 24\"\n",
              "       width=\"24px\">\n",
              "    <path d=\"M7,19H8.4L18.45,9,17,7.55,7,17.6ZM5,21V16.75L18.45,3.32a2,2,0,0,1,2.83,0l1.4,1.43a1.91,1.91,0,0,1,.58,1.4,1.91,1.91,0,0,1-.58,1.4L9.25,21ZM18.45,9,17,7.55Zm-12,3A5.31,5.31,0,0,0,4.9,8.1,5.31,5.31,0,0,0,1,6.5,5.31,5.31,0,0,0,4.9,4.9,5.31,5.31,0,0,0,6.5,1,5.31,5.31,0,0,0,8.1,4.9,5.31,5.31,0,0,0,12,6.5,5.46,5.46,0,0,0,6.5,12Z\"/>\n",
              "  </svg>\n",
              "    </button>\n",
              "    <script>\n",
              "      (() => {\n",
              "      const buttonEl =\n",
              "        document.querySelector('#id_aed5fbf5-edb1-4ec8-9284-0d3d5b03babe button.colab-df-generate');\n",
              "      buttonEl.style.display =\n",
              "        google.colab.kernel.accessAllowed ? 'block' : 'none';\n",
              "\n",
              "      buttonEl.onclick = () => {\n",
              "        google.colab.notebook.generateWithVariable('visitors_df');\n",
              "      }\n",
              "      })();\n",
              "    </script>\n",
              "  </div>\n",
              "\n",
              "    </div>\n",
              "  </div>\n"
            ],
            "application/vnd.google.colaboratory.intrinsic+json": {
              "type": "dataframe",
              "variable_name": "visitors_df",
              "summary": "{\n  \"name\": \"visitors_df\",\n  \"rows\": 361,\n  \"fields\": [\n    {\n      \"column\": \"Unnamed: 0\",\n      \"properties\": {\n        \"dtype\": \"number\",\n        \"std\": 825,\n        \"min\": 14,\n        \"max\": 2824,\n        \"num_unique_values\": 361,\n        \"samples\": [\n          1290,\n          235,\n          112\n        ],\n        \"semantic_type\": \"\",\n        \"description\": \"\"\n      }\n    },\n    {\n      \"column\": \"email\",\n      \"properties\": {\n        \"dtype\": \"category\",\n        \"num_unique_values\": 100,\n        \"samples\": [\n          \"emilija+100_zbmO_4ZQ4@bss.com.mk\",\n          \"emilija+101_jj3C_5KuG@bss.com.mk\",\n          \"daniela.p+203_NfBj_zBgp@bss.com.mk\"\n        ],\n        \"semantic_type\": \"\",\n        \"description\": \"\"\n      }\n    },\n    {\n      \"column\": \"gender\",\n      \"properties\": {\n        \"dtype\": \"number\",\n        \"std\": 0,\n        \"min\": 0,\n        \"max\": 1,\n        \"num_unique_values\": 2,\n        \"samples\": [\n          1,\n          0\n        ],\n        \"semantic_type\": \"\",\n        \"description\": \"\"\n      }\n    },\n    {\n      \"column\": \"visitorId\",\n      \"properties\": {\n        \"dtype\": \"category\",\n        \"num_unique_values\": 100,\n        \"samples\": [\n          \"ifuk295cot2nvgcd9m6ees78\",\n          \"4877yd3ywtavsxe5acy4vby2\"\n        ],\n        \"semantic_type\": \"\",\n        \"description\": \"\"\n      }\n    },\n    {\n      \"column\": \"stepId\",\n      \"properties\": {\n        \"dtype\": \"category\",\n        \"num_unique_values\": 4,\n        \"samples\": [\n          \"5c8a78336d41a10da4f73225\",\n          \"5c8a78336d41a10da4f7336c\"\n        ],\n        \"semantic_type\": \"\",\n        \"description\": \"\"\n      }\n    },\n    {\n      \"column\": \"questionId\",\n      \"properties\": {\n        \"dtype\": \"category\",\n        \"num_unique_values\": 5,\n        \"samples\": [\n          \"5c8a78336d41a10da4f73227\",\n          \"5c8a78336d41a10da4f73372\"\n        ],\n        \"semantic_type\": \"\",\n        \"description\": \"\"\n      }\n    },\n    {\n      \"column\": \"answerValue\",\n      \"properties\": {\n        \"dtype\": \"number\",\n        \"std\": null,\n        \"min\": null,\n        \"max\": null,\n        \"num_unique_values\": 0,\n        \"samples\": [],\n        \"semantic_type\": \"\",\n        \"description\": \"\"\n      }\n    },\n    {\n      \"column\": \"answerId\",\n      \"properties\": {\n        \"dtype\": \"category\",\n        \"num_unique_values\": 23,\n        \"samples\": [],\n        \"semantic_type\": \"\",\n        \"description\": \"\"\n      }\n    },\n    {\n      \"column\": \"answerTypeId\",\n      \"properties\": {\n        \"dtype\": \"category\",\n        \"num_unique_values\": 1,\n        \"samples\": [],\n        \"semantic_type\": \"\",\n        \"description\": \"\"\n      }\n    },\n    {\n      \"column\": \"question\",\n      \"properties\": {\n        \"dtype\": \"category\",\n        \"num_unique_values\": 5,\n        \"samples\": [],\n        \"semantic_type\": \"\",\n        \"description\": \"\"\n      }\n    },\n    {\n      \"column\": \"answer\",\n      \"properties\": {\n        \"dtype\": \"category\",\n        \"num_unique_values\": 23,\n        \"samples\": [],\n        \"semantic_type\": \"\",\n        \"description\": \"\"\n      }\n    },\n    {\n      \"column\": \"Cluster\",\n      \"properties\": {\n        \"dtype\": \"number\",\n        \"std\": 0.8426898628256273,\n        \"min\": 0.0,\n        \"max\": 2.0,\n        \"num_unique_values\": 3,\n        \"samples\": [],\n        \"semantic_type\": \"\",\n        \"description\": \"\"\n      }\n    },\n    {\n      \"column\": \"Cluster_Theme\",\n      \"properties\": {\n        \"dtype\": \"category\",\n        \"num_unique_values\": 4,\n        \"samples\": [],\n        \"semantic_type\": \"\",\n        \"description\": \"\"\n      }\n    }\n  ]\n}"
            }
          },
          "metadata": {},
          "execution_count": 90
        }
      ]
    },
    {
      "cell_type": "code",
      "source": [
        "visitors_df.to_csv('visitors_themes.csv')"
      ],
      "metadata": {
        "id": "5YHF-lQPQOfl"
      },
      "execution_count": 91,
      "outputs": []
    },
    {
      "cell_type": "code",
      "source": [],
      "metadata": {
        "id": "bYCzMfsxQZJ3"
      },
      "execution_count": null,
      "outputs": []
    }
  ]
}